{
 "cells": [
  {
   "cell_type": "markdown",
   "metadata": {
    "id": "JYnUGLApMGZi"
   },
   "source": [
    "Text\n"
   ]
  },
  {
   "cell_type": "code",
   "execution_count": null,
   "metadata": {
    "id": "5esHiuvvLrLO"
   },
   "outputs": [],
   "source": [
    "# Install Spacy: spaCy is an open-source software library for advanced natural language processing, written in the programming languages Python and Cython\n",
    "# !pip install -U spacy\n",
    "# !python -m spacy download en_core_web_sm"
   ]
  },
  {
   "cell_type": "code",
   "execution_count": null,
   "metadata": {
    "id": "JBmYfJ5rLyZu"
   },
   "outputs": [],
   "source": [
    "text = \"\"\"\n",
    "Ang(2016) found that small bussiness that followed the theory of financial management reduced bussiness cost by 12%. while Sonefield(2015) found that small bussiness that followed  this theory reduced bussiness cost by 17%.\n",
    "\"\"\"\n",
    "print(text)"
   ]
  },
  {
   "cell_type": "markdown",
   "metadata": {
    "id": "ph6IlxoHMUZ3"
   },
   "source": [
    "Import library\n",
    "\n",
    "\n",
    "*  spacy for Natural Language Processing.\n",
    "*  STOP_WORDS is a set of default stop words for English language model in SpaCy.\n",
    "* punctuation is a pre-initialized string which will give the all sets of punctuation.\n",
    "\n"
   ]
  },
  {
   "cell_type": "code",
   "execution_count": 3,
   "metadata": {
    "id": "IWttCFiGLyfI"
   },
   "outputs": [],
   "source": [
    "import spacy\n",
    "from spacy.lang.en.stop_words import STOP_WORDS\n",
    "from string import punctuation"
   ]
  },
  {
   "cell_type": "markdown",
   "metadata": {
    "id": "H9kQEPISMV0J"
   },
   "source": [
    "Stop words"
   ]
  },
  {
   "cell_type": "code",
   "execution_count": 4,
   "metadata": {
    "colab": {
     "base_uri": "https://localhost:8080/"
    },
    "id": "RVqRI7a-Lyje",
    "outputId": "1d86199e-ee7c-4ca5-f6dd-f92a68503969"
   },
   "outputs": [],
   "source": [
    "stopwords = list(STOP_WORDS)\n",
    "# print(stopwords)"
   ]
  },
  {
   "cell_type": "markdown",
   "metadata": {
    "id": "PTBhQjhgMXYn"
   },
   "source": [
    "spacy.load is used to load a model. spacy.load('en_core_web_sm') loads the model package en_core_web_sm. This will return a language object nlp containing all components and data needed to process text.\n",
    "\n"
   ]
  },
  {
   "cell_type": "code",
   "execution_count": 5,
   "metadata": {
    "id": "A3gtpESDLynK"
   },
   "outputs": [],
   "source": [
    "nlp = spacy.load('en_core_web_sm')"
   ]
  },
  {
   "cell_type": "markdown",
   "metadata": {
    "id": "LBLh2_OXMYwI"
   },
   "source": [
    "Calling the nlp object on a string of text will return a processed Doc. During processing, spaCy first tokenizes the text, i.e. segments it into words, punctuation and so on."
   ]
  },
  {
   "cell_type": "code",
   "execution_count": 6,
   "metadata": {
    "id": "WcUHkfboLyqS"
   },
   "outputs": [],
   "source": [
    "doc = nlp(text)\n",
    "# doc"
   ]
  },
  {
   "cell_type": "markdown",
   "metadata": {
    "id": "YOGYV8MNNzEB"
   },
   "source": [
    "Each Doc consists of individual tokens, and we can iterate over them. Now we will make a list of tokens called tokens."
   ]
  },
  {
   "cell_type": "code",
   "execution_count": 7,
   "metadata": {
    "colab": {
     "base_uri": "https://localhost:8080/"
    },
    "id": "o3jELz4yLytH",
    "outputId": "364a3f4a-bca5-4d81-c283-8f828112da06"
   },
   "outputs": [],
   "source": [
    "tokens = [token.text for token in doc]\n",
    "# print(tokens)"
   ]
  },
  {
   "cell_type": "markdown",
   "metadata": {
    "id": "mSLzDAknN0AW"
   },
   "source": [
    "We can see that all the punctuation marks and special characters are included in the tokens. Now we will remove them. punctuation contains a string of all the punctuations but it does now conatin \\n. So we will add \\n in punctuation."
   ]
  },
  {
   "cell_type": "code",
   "execution_count": 9,
   "metadata": {
    "colab": {
     "base_uri": "https://localhost:8080/",
     "height": 35
    },
    "id": "vYBRpQ4-Lyvc",
    "outputId": "ee0f4b9d-65b4-442e-9482-fffaed154947"
   },
   "outputs": [
    {
     "data": {
      "text/plain": [
       "'!\"#$%&\\'()*+,-./:;<=>?@[\\\\]^_`{|}~\\n\\n'"
      ]
     },
     "execution_count": 9,
     "metadata": {},
     "output_type": "execute_result"
    }
   ],
   "source": [
    "punctuation = punctuation + '\\n'\n",
    "punctuation"
   ]
  },
  {
   "cell_type": "markdown",
   "metadata": {
    "id": "aA4Lo5-oN1AQ"
   },
   "source": [
    "Now we will make the word frequency table. It will contain the number of occurrences of all the distinct words in the text which are not punctuations or stop words. We will create a dictionary named word_frequencies."
   ]
  },
  {
   "cell_type": "code",
   "execution_count": 10,
   "metadata": {
    "colab": {
     "base_uri": "https://localhost:8080/"
    },
    "id": "2tlhIqvuLyyk",
    "outputId": "f2cd30a8-af6a-4a97-f9a8-6f980529b5a1"
   },
   "outputs": [
    {
     "name": "stdout",
     "output_type": "stream",
     "text": [
      "{'Ang(2016': 1, 'found': 2, 'small': 2, 'bussiness': 4, 'followed': 2, 'theory': 2, 'financial': 1, 'management': 1, 'reduced': 2, 'cost': 2, '12': 1, 'Sonefield(2015': 1, ' ': 1, '17': 1}\n"
     ]
    }
   ],
   "source": [
    "word_frequencies = {}\n",
    "for word in doc:\n",
    "    if word.text.lower() not in stopwords:\n",
    "        if word.text.lower() not in punctuation:\n",
    "            if word.text not in word_frequencies.keys():\n",
    "                word_frequencies[word.text] = 1\n",
    "            else:\n",
    "                word_frequencies[word.text] += 1\n",
    "                \n",
    "print(word_frequencies)"
   ]
  },
  {
   "cell_type": "markdown",
   "metadata": {
    "id": "DdiLvPpKN2P1"
   },
   "source": [
    "Now we will get the max_frequency."
   ]
  },
  {
   "cell_type": "code",
   "execution_count": 11,
   "metadata": {
    "colab": {
     "base_uri": "https://localhost:8080/"
    },
    "id": "jHgUDZMOLy1E",
    "outputId": "9a5c7f7c-3ec1-4990-a362-24cb0a47ce94"
   },
   "outputs": [
    {
     "name": "stdout",
     "output_type": "stream",
     "text": [
      "4\n",
      "1\n"
     ]
    }
   ],
   "source": [
    "max_frequency = max(word_frequencies.values())\n",
    "min_frequency =min(word_frequencies.values())\n",
    "print(max_frequency)\n",
    "print(min_frequency)"
   ]
  },
  {
   "cell_type": "markdown",
   "metadata": {
    "id": "YuCM8OgaN3Qu"
   },
   "source": [
    "We will divide each frequency value in word_frequencies with the max_frequency to normalize the frequencies."
   ]
  },
  {
   "cell_type": "code",
   "execution_count": 12,
   "metadata": {
    "colab": {
     "base_uri": "https://localhost:8080/"
    },
    "id": "BcyMmjIGLy45",
    "outputId": "cbd32980-6922-422b-f225-559f89040be7"
   },
   "outputs": [
    {
     "name": "stdout",
     "output_type": "stream",
     "text": [
      "{'Ang(2016': 0.25, 'found': 0.5, 'small': 0.5, 'bussiness': 1.0, 'followed': 0.5, 'theory': 0.5, 'financial': 0.25, 'management': 0.25, 'reduced': 0.5, 'cost': 0.5, '12': 0.25, 'Sonefield(2015': 0.25, ' ': 0.25, '17': 0.25}\n"
     ]
    }
   ],
   "source": [
    "for word in word_frequencies.keys():\n",
    "    word_frequencies[word] = word_frequencies[word]/max_frequency\n",
    "\n",
    "print(word_frequencies)"
   ]
  },
  {
   "cell_type": "markdown",
   "metadata": {
    "id": "6IhUzvCUN4ZK"
   },
   "source": [
    "Now we will do sentence tokenization. The entire text is divided into sentences."
   ]
  },
  {
   "cell_type": "code",
   "execution_count": 13,
   "metadata": {
    "colab": {
     "base_uri": "https://localhost:8080/"
    },
    "id": "vsp37ORKN5aY",
    "outputId": "a33c31e7-d651-4015-a2c1-687b7b5fdf81"
   },
   "outputs": [
    {
     "name": "stdout",
     "output_type": "stream",
     "text": [
      "[\n",
      "Ang(2016) found that small bussiness that followed the theory of financial management reduced bussiness cost by 12%., while Sonefield(2015) found that small bussiness that followed  this theory reduced bussiness cost by 17%.\n",
      "]\n"
     ]
    }
   ],
   "source": [
    "sentence_tokens = [sent for sent in doc.sents]\n",
    "print(sentence_tokens)"
   ]
  },
  {
   "cell_type": "markdown",
   "metadata": {
    "id": "ImlJkrrDN59n"
   },
   "source": [
    "Now we will calculate the sentence scores. The sentence score for a particular sentence is the sum of the normalized frequencies of the words in that sentence. All the sentences will be stored with their score in the dictionary sentence_scores."
   ]
  },
  {
   "cell_type": "code",
   "execution_count": 14,
   "metadata": {
    "colab": {
     "base_uri": "https://localhost:8080/"
    },
    "id": "63eCHVdGN6bB",
    "outputId": "047e3b16-3991-4333-89c7-2c80f684a1e9"
   },
   "outputs": [
    {
     "data": {
      "text/plain": [
       "{\n",
       " Ang(2016) found that small bussiness that followed the theory of financial management reduced bussiness cost by 12%.: 5.75,\n",
       " while Sonefield(2015) found that small bussiness that followed  this theory reduced bussiness cost by 17%.: 5.5}"
      ]
     },
     "execution_count": 14,
     "metadata": {},
     "output_type": "execute_result"
    }
   ],
   "source": [
    "sentence_scores = {}\n",
    "for sent in sentence_tokens:\n",
    "    for word in sent:\n",
    "        if word.text.lower() in word_frequencies.keys():\n",
    "            if sent not in sentence_scores.keys():\n",
    "                sentence_scores[sent] = word_frequencies[word.text.lower()]\n",
    "            else:\n",
    "                sentence_scores[sent] += word_frequencies[word.text.lower()]\n",
    "                \n",
    "sentence_scores"
   ]
  },
  {
   "cell_type": "markdown",
   "metadata": {
    "id": "syoXAfjIN7AF"
   },
   "source": [
    "Now we are going to select 30% of the sentences having the largest scores. For this we are going to import nlargest from heapq."
   ]
  },
  {
   "cell_type": "code",
   "execution_count": 15,
   "metadata": {
    "id": "jUosE2vFN7j4"
   },
   "outputs": [],
   "source": [
    "from heapq import nlargest"
   ]
  },
  {
   "cell_type": "markdown",
   "metadata": {
    "id": "HbzLuJwuN8fI"
   },
   "source": [
    "We want the length of summary to be 50% of the original length which is 1. Hence the summary will have 1 sentence."
   ]
  },
  {
   "cell_type": "code",
   "execution_count": 16,
   "metadata": {
    "colab": {
     "base_uri": "https://localhost:8080/"
    },
    "id": "suHJtg04N9GM",
    "outputId": "7c3bc3f9-8a12-4dd1-d50c-1986232c6839"
   },
   "outputs": [
    {
     "data": {
      "text/plain": [
       "[\n",
       " Ang(2016) found that small bussiness that followed the theory of financial management reduced bussiness cost by 12%.,\n",
       " while Sonefield(2015) found that small bussiness that followed  this theory reduced bussiness cost by 17%.]"
      ]
     },
     "execution_count": 16,
     "metadata": {},
     "output_type": "execute_result"
    }
   ],
   "source": [
    "select_length = int(len(sentence_tokens)*0.5)\n",
    "# select_length\n",
    "sentence_tokens"
   ]
  },
  {
   "cell_type": "markdown",
   "metadata": {
    "id": "Fasfk1W8N9n0"
   },
   "source": [
    "nlargest() will return a list with the select_length largest elements i.e. 4 largest elements from sentence_scores. key = sentence_scores.get specifies a function of one argument that is used to extract a comparison key from each element in sentence_scores."
   ]
  },
  {
   "cell_type": "code",
   "execution_count": 17,
   "metadata": {
    "colab": {
     "base_uri": "https://localhost:8080/"
    },
    "id": "Ckaf0lSyN-Q6",
    "outputId": "3e7513d5-5b13-40da-edc9-96e4c0b316be"
   },
   "outputs": [
    {
     "data": {
      "text/plain": [
       "[\n",
       " Ang(2016) found that small bussiness that followed the theory of financial management reduced bussiness cost by 12%.]"
      ]
     },
     "execution_count": 17,
     "metadata": {},
     "output_type": "execute_result"
    }
   ],
   "source": [
    "summary = nlargest(select_length, sentence_scores, key = sentence_scores.get)\n",
    "summary"
   ]
  },
  {
   "cell_type": "markdown",
   "metadata": {
    "id": "FMOvpt5LOvwM"
   },
   "source": [
    "Now we will combine this sentence together and make final string which contains the summary."
   ]
  },
  {
   "cell_type": "code",
   "execution_count": 18,
   "metadata": {
    "id": "7mRV011dOwWQ"
   },
   "outputs": [],
   "source": [
    "final_summary = [word.text for word in summary]\n",
    "summary = ' '.join(final_summary)"
   ]
  },
  {
   "cell_type": "markdown",
   "metadata": {
    "id": "yrkAVyliOxH-"
   },
   "source": [
    "Now we will display the original text, the summary of the text and the lengths of the original text and the generated summary."
   ]
  },
  {
   "cell_type": "code",
   "execution_count": 19,
   "metadata": {
    "colab": {
     "base_uri": "https://localhost:8080/"
    },
    "id": "tyjLDtxLOxur",
    "outputId": "20690e4e-3b13-4273-954c-6a14a5e50374"
   },
   "outputs": [
    {
     "name": "stdout",
     "output_type": "stream",
     "text": [
      "225\n",
      "\n",
      "Ang(2016) found that small bussiness that followed the theory of financial management reduced bussiness cost by 12%. while Sonefield(2015) found that small bussiness that followed  this theory reduced bussiness cost by 17%.\n",
      "\n"
     ]
    }
   ],
   "source": [
    "print(len(text))\n",
    "print(text)"
   ]
  },
  {
   "cell_type": "code",
   "execution_count": 20,
   "metadata": {
    "colab": {
     "base_uri": "https://localhost:8080/"
    },
    "id": "NGTHmwInOyzD",
    "outputId": "072068ce-5074-457c-d428-4179933a6be8"
   },
   "outputs": [
    {
     "name": "stdout",
     "output_type": "stream",
     "text": [
      "117\n",
      "\n",
      "Ang(2016) found that small bussiness that followed the theory of financial management reduced bussiness cost by 12%.\n"
     ]
    }
   ],
   "source": [
    "print(len(summary))\n",
    "print(summary)"
   ]
  },
  {
   "cell_type": "code",
   "execution_count": 21,
   "metadata": {
    "colab": {
     "base_uri": "https://localhost:8080/"
    },
    "id": "LmP3EJWKOzzM",
    "outputId": "827954ac-1ed3-4f57-ca3d-cd1ea41ae0aa"
   },
   "outputs": [],
   "source": [
    "avg_occurance = (max(word_frequencies.values()) + min(word_frequencies.values()))/2\n",
    "# print(max(word_frequencies.values()))\n",
    "# print(min(word_frequencies.values()))\n",
    "# print(avg_occurance)"
   ]
  },
  {
   "cell_type": "code",
   "execution_count": 22,
   "metadata": {
    "colab": {
     "base_uri": "https://localhost:8080/"
    },
    "id": "prSYCmK7O1I3",
    "outputId": "b0e6aea8-f5c2-4abe-9ada-04aa432a647c"
   },
   "outputs": [],
   "source": [
    "import re,string "
   ]
  },
  {
   "cell_type": "code",
   "execution_count": 23,
   "metadata": {
    "colab": {
     "base_uri": "https://localhost:8080/",
     "height": 116
    },
    "id": "UhkHeIrhXFWP",
    "outputId": "a9e29f8b-0da5-4e19-82cf-a6ff02b2995d"
   },
   "outputs": [],
   "source": [
    "noun_phrases = []\n",
    "nlp = spacy.load('en_core_web_sm')\n",
    "text = summary\n",
    "doc = nlp(text)\n",
    "for np in doc.noun_chunks:\n",
    "#     print(np.text)\n",
    "    noun_phrases.append(np.text)"
   ]
  },
  {
   "cell_type": "code",
   "execution_count": 24,
   "metadata": {
    "colab": {
     "base_uri": "https://localhost:8080/"
    },
    "id": "Gj02qlOeXQ_8",
    "outputId": "21752ea4-fa19-47a8-c070-e4b77749d76b"
   },
   "outputs": [
    {
     "name": "stdout",
     "output_type": "stream",
     "text": [
      "['that small bussiness', 'the theory', 'financial management', 'bussiness cost', '12%']\n"
     ]
    }
   ],
   "source": [
    "print(noun_phrases)"
   ]
  },
  {
   "cell_type": "code",
   "execution_count": 25,
   "metadata": {},
   "outputs": [],
   "source": [
    "pattern = re.compile(\"[\\dfa% {}]+$\".format(re.escape(string.punctuation)))\n",
    "# x = ['12,523', '3.46%', \"this is not\", \"foo bar 42\", \"23fa\"]\n",
    "w_text = [item for item in noun_phrases if pattern.match(item)]\n",
    "noun_phrases = set(noun_phrases) - set(w_text)\n",
    "noun_phrases = list(noun_phrases)"
   ]
  },
  {
   "cell_type": "code",
   "execution_count": null,
   "metadata": {},
   "outputs": [],
   "source": [
    "\n"
   ]
  },
  {
   "cell_type": "code",
   "execution_count": 28,
   "metadata": {},
   "outputs": [
    {
     "name": "stdout",
     "output_type": "stream",
     "text": [
      "['financial management', '', ' that followed the theory of financial management reduced bussiness cost', '']\n"
     ]
    }
   ],
   "source": [
    "indexx = summary.index(noun_phrases[0])\n",
    "s_text = []\n",
    "# s_text.append(noun_phrases[0])\n",
    "length = len(noun_phrases)\n",
    "begin = 0\n",
    "end = 0\n",
    "for i in range(0,length):\n",
    "    if(noun_phrases[i] in summary):\n",
    "        begin = indexx\n",
    "        end = summary.index(noun_phrases[i]) + len(noun_phrases[i])\n",
    "        s_text.append(summary[begin: end])\n",
    "#         print(\"begin\",begin,\" end\", end, \" phrase {}\".format(noun_phrases[i]))\n",
    "        indexx = end\n",
    "print(s_text)"
   ]
  },
  {
   "cell_type": "code",
   "execution_count": null,
   "metadata": {},
   "outputs": [],
   "source": []
  },
  {
   "cell_type": "code",
   "execution_count": 29,
   "metadata": {},
   "outputs": [
    {
     "name": "stdout",
     "output_type": "stream",
     "text": [
      " financial management that followed the theory of financial management reduced bussiness cost\n"
     ]
    }
   ],
   "source": [
    "final = \" \"\n",
    "for x in s_text:\n",
    "    final = final + x.strip('\\n')\n",
    "print(final)"
   ]
  },
  {
   "cell_type": "code",
   "execution_count": null,
   "metadata": {},
   "outputs": [],
   "source": []
  }
 ],
 "metadata": {
  "colab": {
   "collapsed_sections": [],
   "name": "text_synthesis.ipynb",
   "provenance": []
  },
  "kernelspec": {
   "display_name": "Python 3",
   "language": "python",
   "name": "python3"
  },
  "language_info": {
   "codemirror_mode": {
    "name": "ipython",
    "version": 3
   },
   "file_extension": ".py",
   "mimetype": "text/x-python",
   "name": "python",
   "nbconvert_exporter": "python",
   "pygments_lexer": "ipython3",
   "version": "3.6.5"
  }
 },
 "nbformat": 4,
 "nbformat_minor": 1
}
